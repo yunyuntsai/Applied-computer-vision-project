{
 "cells": [
  {
   "cell_type": "markdown",
   "id": "923cc6d7",
   "metadata": {},
   "source": [
    "# Composite-Adv Demonstration\n",
    "![CAA Flow](figures/CAA_Flow.png)\n",
    "This notebook provides a step-by-step demonstration showing how to launch our composite adversarial attack (CAA). We use the CIFAR-10 dataset for demonstration, while other datasets could be executed similarly."
   ]
  },
  {
   "cell_type": "markdown",
   "id": "4108abaf",
   "metadata": {},
   "source": [
    "## I. Parameters Configuration"
   ]
  },
  {
   "cell_type": "code",
   "execution_count": 1,
   "id": "31432eba",
   "metadata": {},
   "outputs": [],
   "source": [
    "PARAMS = {\n",
    "    'seed': 0,\n",
    "    'dataset': {\n",
    "        'name': 'cifar10',\n",
    "        'root': '../data/',\n",
    "        'batch_size': 128,\n",
    "        'normalize': {\n",
    "            # CIFAR10\n",
    "            'mean': [0.4914, 0.4822, 0.4465],\n",
    "            'std': [0.2023, 0.1994, 0.2010],\n",
    "            # ImageNet\n",
    "            # 'mean': [0.485, 0.456, 0.406],\n",
    "            # 'std': [0.229, 0.224, 0.225],\n",
    "        }\n",
    "    },\n",
    "    'model':{ \n",
    "        'madry':{ # Madry's Robust Model\n",
    "            'arch': 'resnet50',\n",
    "            'normalize': True,\n",
    "            'checkpoint': '../GAT/pretrained_model/cifar_madry_resnet50_linf_8.pt', # download from https://github.com/MadryLab/robustness\n",
    "        },\n",
    "        'trades':{ # Trades' Robust Model\n",
    "            'arch': 'wideresnet',\n",
    "            'normalize': False,\n",
    "            'checkpoint': '../GAT/pretrained_model/cifar_trades_wideresnet34_10_linf_8.pt', # download from https://github.com/yaodongyu/TRADES\n",
    "        },\n",
    "    },\n",
    "}"
   ]
  },
  {
   "cell_type": "code",
   "execution_count": 2,
   "id": "e95a053c",
   "metadata": {},
   "outputs": [],
   "source": [
    "import torch, numpy, random\n",
    "torch.manual_seed(PARAMS['seed'])\n",
    "numpy.random.seed(PARAMS['seed'])\n",
    "random.seed(PARAMS['seed'])\n",
    "torch.backends.cudnn.deterministic = True"
   ]
  },
  {
   "cell_type": "markdown",
   "id": "9d97ef70",
   "metadata": {},
   "source": [
    "## II. Dataset"
   ]
  },
  {
   "cell_type": "code",
   "execution_count": 3,
   "id": "d574e2a2",
   "metadata": {
    "scrolled": false
   },
   "outputs": [
    {
     "name": "stdout",
     "output_type": "stream",
     "text": [
      "Files already downloaded and verified\n"
     ]
    }
   ],
   "source": [
    "from composite_adv.utilities import make_dataloader\n",
    "# load dataset\n",
    "data_loader = make_dataloader(PARAMS['dataset']['root'], PARAMS['dataset']['name'], transform=None, batch_size=PARAMS['dataset']['batch_size'], shuffle=True)"
   ]
  },
  {
   "cell_type": "markdown",
   "id": "05ab346e",
   "metadata": {},
   "source": [
    "## III. Select Models"
   ]
  },
  {
   "cell_type": "markdown",
   "id": "7903f77c",
   "metadata": {},
   "source": [
    "### 1. Madry's $\\ell_\\infty$-robust model"
   ]
  },
  {
   "cell_type": "code",
   "execution_count": 4,
   "id": "dc0689b5",
   "metadata": {},
   "outputs": [
    {
     "name": "stdout",
     "output_type": "stream",
     "text": [
      "=> loaded checkpoint '../GAT/pretrained_model/cifar_madry_resnet50_linf_8.pt' (epoch 153)\n",
      "Natural accuracy --> 87.02999877929688\n",
      "Robust accuracy --> 55.029998779296875\n"
     ]
    }
   ],
   "source": [
    "from composite_adv.utilities import make_madry_model, EvalModel\n",
    "# load model\n",
    "base_model = make_madry_model(PARAMS['model']['madry']['arch'],\n",
    "                              PARAMS['dataset']['name'],\n",
    "                              checkpoint_path=PARAMS['model']['madry']['checkpoint'])\n",
    "\n",
    "# Normalizer\n",
    "model = EvalModel(base_model,\n",
    "                  normalize_param=PARAMS['dataset']['normalize'],\n",
    "                  input_normalized=PARAMS['model']['madry']['normalize'])\n",
    "\n",
    "# Send to GPU\n",
    "import torch\n",
    "if not torch.cuda.is_available():\n",
    "    print('using CPU, this will be slow')\n",
    "else:\n",
    "    model.cuda()"
   ]
  },
  {
   "cell_type": "markdown",
   "id": "ced9a465",
   "metadata": {},
   "source": [
    "### 2. TRADES $\\ell_\\infty$-robust model"
   ]
  },
  {
   "cell_type": "code",
   "execution_count": 4,
   "id": "bc5205ed",
   "metadata": {},
   "outputs": [
    {
     "name": "stdout",
     "output_type": "stream",
     "text": [
      "=> loaded checkpoint '../GAT/pretrained_model/cifar_trades_wideresnet34_10_linf_8.pt'\n"
     ]
    }
   ],
   "source": [
    "from composite_adv.utilities import make_trades_model, EvalModel\n",
    "# load model\n",
    "base_model = make_trades_model(PARAMS['model']['trades']['arch'],\n",
    "                               PARAMS['dataset']['name'],\n",
    "                               checkpoint_path=PARAMS['model']['trades']['checkpoint'])\n",
    "\n",
    "# Normalizer\n",
    "model = EvalModel(base_model,\n",
    "                  normalize_param=PARAMS['dataset']['normalize'],\n",
    "                  input_normalized=PARAMS['model']['trades']['normalize'])\n",
    "\n",
    "# Send to GPU\n",
    "import torch\n",
    "if not torch.cuda.is_available():\n",
    "    print('using CPU, this will be slow')\n",
    "else:\n",
    "    model.cuda()"
   ]
  },
  {
   "cell_type": "markdown",
   "id": "3848fb6f",
   "metadata": {},
   "source": [
    "## IV. Evaluate Clean Accuracy"
   ]
  },
  {
   "cell_type": "code",
   "execution_count": null,
   "id": "afe6af91",
   "metadata": {
    "scrolled": true
   },
   "outputs": [],
   "source": [
    "from composite_adv.utilities import robustness_evaluate\n",
    "from composite_adv.attacks import NoAttack\n",
    "\n",
    "attack = NoAttack()\n",
    "robustness_evaluate(model, attack, data_loader)"
   ]
  },
  {
   "cell_type": "markdown",
   "id": "7155df46",
   "metadata": {},
   "source": [
    "## V. Evaluate Robust Accuracy\n",
    "\n",
    "**CAA Configuration**\n",
    "1. Attacks Pool Selection. For simpilicity, we use the following abbreviations to specify each attack types.\n",
    "   `0`: Hue, `1`: Saturation, `2`: Rotation, `3`: Brightness, `4`: Contrast, `5`: $\\ell_\\infty$\n",
    "\n",
    "2. Attack Ordering Specify. We provide three ordering options ['fixed','random','scheduled']\n",
    "\n",
    "**Setup**\n",
    "```python\n",
    "from composite_adv.attacks import CompositeAttack\n",
    "CompositeAttack(model, dataset=PARAMS['dataset']['name'], enabled_attack=(0,), order_schedule=\"fixed\")\n",
    "```"
   ]
  },
  {
   "cell_type": "code",
   "execution_count": null,
   "id": "5211deba",
   "metadata": {},
   "outputs": [],
   "source": [
    "from composite_adv.attacks import CompositeAttack\n",
    "from composite_adv.utilities import robustness_evaluate"
   ]
  },
  {
   "cell_type": "markdown",
   "id": "6f2171ee",
   "metadata": {},
   "source": [
    "###  1. Single Attack $\\text{CAA}_\\text{Hue}$"
   ]
  },
  {
   "cell_type": "code",
   "execution_count": null,
   "id": "0df4ed56",
   "metadata": {
    "scrolled": false
   },
   "outputs": [],
   "source": [
    "composite_attack = CompositeAttack(model, # The model to be attacked\n",
    "                                   dataset=PARAMS['dataset']['name'],\n",
    "                                   enabled_attack=(0,), # Abbr: 0: Hue, 1: Saturation, 2: Rotation, 3: Brightness, 4: Contrast, 5: L-infinity\n",
    "                                   order_schedule=\"fixed\") # Three ordering options ['fixed','random','scheduled']\n",
    "robustness_evaluate(model, composite_attack, data_loader)"
   ]
  },
  {
   "cell_type": "markdown",
   "id": "97761dd0",
   "metadata": {},
   "source": [
    "### 2. Three Attacks $\\text{CAA}_{3a}$ (Scheduled Order)"
   ]
  },
  {
   "cell_type": "code",
   "execution_count": null,
   "id": "e1dd1d79",
   "metadata": {
    "scrolled": true
   },
   "outputs": [],
   "source": [
    "composite_attack = CompositeAttack(model,\n",
    "                                   dataset=PARAMS['dataset']['name'],\n",
    "                                   enabled_attack=(0,1,5),\n",
    "                                   order_schedule=\"scheduled\")\n",
    "robustness_evaluate(model, composite_attack, data_loader)"
   ]
  },
  {
   "cell_type": "markdown",
   "id": "abd652cc",
   "metadata": {},
   "source": [
    "### 3. Semantic Attacks (Random Order)"
   ]
  },
  {
   "cell_type": "code",
   "execution_count": null,
   "id": "ff0cbfb2",
   "metadata": {
    "scrolled": true
   },
   "outputs": [],
   "source": [
    "composite_attack = CompositeAttack(model,\n",
    "                                   dataset=PARAMS['dataset']['name'],\n",
    "                                   enabled_attack=(0,1,2,3,4),\n",
    "                                   order_schedule=\"random\")\n",
    "robustness_evaluate(model, composite_attack, data_loader)"
   ]
  },
  {
   "cell_type": "markdown",
   "id": "bdb6e917",
   "metadata": {},
   "source": [
    "### 4. Full Attacks (Scheduled Order)"
   ]
  },
  {
   "cell_type": "code",
   "execution_count": null,
   "id": "c7d702c7",
   "metadata": {
    "scrolled": true
   },
   "outputs": [],
   "source": [
    "composite_attack = CompositeAttack(model,\n",
    "                                   dataset=PARAMS['dataset']['name'],\n",
    "                                   enabled_attack=(0,1,2,3,4,5),\n",
    "                                   order_schedule=\"scheduled\")\n",
    "robustness_evaluate(model, composite_attack, data_loader)"
   ]
  },
  {
   "cell_type": "code",
   "execution_count": 30,
   "id": "b2b0a7cc",
   "metadata": {},
   "outputs": [
    {
     "name": "stdout",
     "output_type": "stream",
     "text": [
      "[46.11999988555908, 74.00000095367432, 75.23000240325928, 76.98000073432922, 68.4499979019165, 78.39000225067139, 49.2000013589859, 55.400002002716064, 62.73000240325928, 68.05999875068665, 26.94999873638153, 38.80999982357025, 32.60999917984009]\n",
      "[82.88000226020813, 84.07999873161316, 79.90000247955322, 38.22999894618988, 77.66000032424927, 80.0100028514862, 77.920001745224, 77.52000093460083, 80.12999892234802, 74.88999962806702, 65.47999978065491, 77.41000056266785, 77.20999717712402]\n",
      "[78.17000150680542, 79.61999773979187, 75.20999908447266, 40.549999475479126, 75.78999996185303, 75.94000101089478, 72.50999808311462, 74.55999851226807, 76.82999968528748, 71.25999927520752, 52.920001745224, 70.35999894142151, 70.52000164985657]\n"
     ]
    }
   ],
   "source": [
    "import csv\n",
    "\n",
    "model_name = ['nat', 'linf8', 'gat-f']\n",
    "all_model_acc = []\n",
    "for j in range(len(model_name)):\n",
    "    file_name = './saved/cifar10-' + model_name[j] + '-ood-attack.csv'\n",
    "    corr_acc = []\n",
    "    all_corr_name = []\n",
    "    with open(file_name, mode ='r')as file:\n",
    "        # reading the CSV file\n",
    "        csvFile = csv.reader(file)\n",
    "        # displaying the contents of the CSV file\n",
    "        for lines in csvFile:\n",
    "            if lines[0] == 'corruption_type':\n",
    "                for i in range(1, len(lines)):\n",
    "                    all_corr_name.append(lines[i])    \n",
    "            if lines[0] == 'accuracies':\n",
    "                for i in range(1, len(lines)):\n",
    "                    corr_acc.append(float(lines[i])*100.0)\n",
    "        corr_acc = corr_acc[0:7]  + corr_acc[8:11] + corr_acc[13:16] \n",
    "        corr_acc.reverse()\n",
    "        print(corr_acc)\n",
    "        all_model_acc.append(corr_acc)"
   ]
  },
  {
   "cell_type": "code",
   "execution_count": 16,
   "metadata": {},
   "outputs": [
    {
     "name": "stdout",
     "output_type": "stream",
     "text": [
      "['pixelate', 'jpeg_compression', 'elastic_transform', 'fog', 'frost', 'snow', 'glass_blur', 'defocus_blur', 'zoom_blur', 'motion_blur', 'impulse_noise', 'shot_noise', 'gaussian_noise']\n",
      "13\n"
     ]
    }
   ],
   "source": [
    "all_corr_name = all_corr_name[0:7] + all_corr_name[8:11] + all_corr_name[13:16]\n",
    "all_corr_name.reverse()\n",
    "print(all_corr_name)\n",
    "print(len(all_model_acc[0]))"
   ]
  },
  {
   "cell_type": "code",
   "execution_count": 40,
   "metadata": {},
   "outputs": [
    {
     "name": "stdout",
     "output_type": "stream",
     "text": [
      "77.66666611035664\n",
      "64.09333348274231\n",
      "73.78999888896942\n",
      "64.60000077883403\n"
     ]
    }
   ],
   "source": [
    "print(np.array(all_model_acc[2][0:3]).mean())\n",
    "print(np.array(all_model_acc[2][3:6]).mean())\n",
    "print(np.array(all_model_acc[2][6:10]).mean())\n",
    "print(np.array(all_model_acc[2][10:13]).mean())"
   ]
  },
  {
   "cell_type": "code",
   "execution_count": 26,
   "metadata": {},
   "outputs": [
    {
     "name": "stdout",
     "output_type": "stream",
     "text": [
      "['pixelate', 'jpeg_compression', 'elastic_transform', 'fog', 'frost', 'snow', 'glass_blur', 'defocus_blur', 'zoom_blur', 'motion_blur', 'impulse_noise', 'shot_noise', 'gaussian_noise']\n"
     ]
    },
    {
     "data": {
      "image/png": "[encoded data removed]",
      "text/plain": [
       "<Figure size 864x720 with 1 Axes>"
      ]
     },
     "metadata": {
      "needs_background": "light"
     },
     "output_type": "display_data"
    }
   ],
   "source": [
    "import numpy as np\n",
    "import matplotlib.pyplot as plt\n",
    "import matplotlib.colors as mcolors\n",
    "print(all_corr_name)\n",
    "X = np.arange(13)\n",
    "fig = plt.figure(figsize=(12,10))\n",
    "ax = fig.add_axes([0,0,1,1])\n",
    "ax.barh(X + 0.50, all_model_acc[2], color = 'lightseagreen', height = 0.25)\n",
    "ax.barh(X + 0.25, all_model_acc[1], color = 'orange', height = 0.25)\n",
    "ax.barh(X + 0.00, all_model_acc[0], color = 'darkgray', height = 0.25)\n",
    "ax.set_xlabel('Robust Accuracy',fontsize=16)\n",
    "ax.set_title('Unseen Corruption Accuracy', fontsize=24)\n",
    "ax.set_xticks(np.arange(0, 100, 10))\n",
    "ax.set_yticks(np.arange(0, 13, 1))\n",
    "ax.set_yticklabels(all_corr_name, rotation=0, fontsize=18)\n",
    "ax.legend(labels=['GAT', 'l_inf Robust', 'Normal'], fontsize=16, loc='lower left')\n",
    "plt.savefig('ood_result.png', dpi=200)"
   ]
  },
  {
   "cell_type": "code",
   "execution_count": 29,
   "metadata": {},
   "outputs": [
    {
     "name": "stdout",
     "output_type": "stream",
     "text": [
      "['No Attack', 'Three Attacks', 'Semantic Attacks', 'Full Attacks']\n"
     ]
    },
    {
     "data": {
      "image/png": "[encoded data removed]",
      "text/plain": [
       "<Figure size 720x432 with 1 Axes>"
      ]
     },
     "metadata": {
      "needs_background": "light"
     },
     "output_type": "display_data"
    }
   ],
   "source": [
    "GAT_result = [82.1, 43.5, 66.6, 32.8]\n",
    "Linf8_result = [87.0, 30.8, 21.3, 3.7]\n",
    "Normal_result = [95.2, 0.1, 44.2, 0.1]\n",
    "all_attack_name = ['No Attack', 'Three Attacks', 'Semantic Attacks', 'Full Attacks']\n",
    "import numpy as np\n",
    "import matplotlib.pyplot as plt\n",
    "import matplotlib.colors as mcolors\n",
    "print(all_attack_name)\n",
    "X = np.arange(4)\n",
    "fig = plt.figure(figsize=(10,6))\n",
    "ax = fig.add_axes([0,0,1,1])\n",
    "ax.barh(X + 0.50, GAT_result, color = 'lightseagreen', height = 0.25)\n",
    "ax.barh(X + 0.25, Linf8_result, color = 'orange', height = 0.25)\n",
    "ax.barh(X + 0.00, Normal_result, color = 'darkgray', height = 0.25)\n",
    "ax.set_xlabel('Robust Accuracy',fontsize=16)\n",
    "ax.set_title('Composite Attack V.S. Robust Accuracy', fontsize=24)\n",
    "ax.set_xticks(np.arange(0, 100, 10))\n",
    "ax.set_yticks(np.arange(0, 4, 1))\n",
    "ax.set_yticklabels(all_attack_name, rotation=0, fontsize=18)\n",
    "\n",
    "ax.legend(labels=['GAT', 'l_inf Robust', 'Normal'], fontsize=16, loc='upper right')\n",
    "plt.savefig('compostie_result_v2.png', dpi=200)"
   ]
  },
  {
   "cell_type": "code",
   "execution_count": null,
   "metadata": {},
   "outputs": [],
   "source": []
  }
 ],
 "metadata": {
  "kernelspec": {
   "display_name": "Python 3 (ipykernel)",
   "language": "python",
   "name": "python3"
  },
  "language_info": {
   "codemirror_mode": {
    "name": "ipython",
    "version": 3
   },
   "file_extension": ".py",
   "mimetype": "text/x-python",
   "name": "python",
   "nbconvert_exporter": "python",
   "pygments_lexer": "ipython3",
   "version": "3.9.7"
  }
 },
 "nbformat": 4,
 "nbformat_minor": 5
}
